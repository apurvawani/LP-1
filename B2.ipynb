{
  "nbformat": 4,
  "nbformat_minor": 0,
  "metadata": {
    "kernelspec": {
      "display_name": "Python 3",
      "language": "python",
      "name": "python3"
    },
    "language_info": {
      "codemirror_mode": {
        "name": "ipython",
        "version": 3
      },
      "file_extension": ".py",
      "mimetype": "text/x-python",
      "name": "python",
      "nbconvert_exporter": "python",
      "pygments_lexer": "ipython3",
      "version": "3.8.5"
    },
    "colab": {
      "name": "B2.ipynb",
      "provenance": []
    }
  },
  "cells": [
    {
      "cell_type": "code",
      "metadata": {
        "id": "gncRzRrGo9ij"
      },
      "source": [
        "from nltk.chat.util import Chat, reflections"
      ],
      "execution_count": null,
      "outputs": []
    },
    {
      "cell_type": "code",
      "metadata": {
        "id": "GC2ph9Cso9ik"
      },
      "source": [
        "pairs = [\n",
        "            [\n",
        "                r\"my name is(.*)\",\n",
        "                [\"Hello %1, how are you doing today?\",]\n",
        "            ],\n",
        "            [\n",
        "                r\"i am fine\",\n",
        "                [\"How can I help you?\",]\n",
        "            ],\n",
        "            [\n",
        "                r\"what is your name?\",\n",
        "                [\"My name is Robo and I will help you with your investment queries today.\",]\n",
        "            ],\n",
        "            [\n",
        "                r\"where can i invest(.*) money\",\n",
        "                [\"Basically there are many options to invest- 1.Regional and 2.Stocks.\\nIn which section would you like to invest?\",]\n",
        "            ],\n",
        "            [\n",
        "                r\"(.*)Regional(.*)\",\n",
        "                [\"There are many - SBI,HSBC,DB. Which bank would you like to go for?\",]\n",
        "            ],\n",
        "            [\n",
        "                r\"SBI(.*)\",\n",
        "                [\"SBI offers 10 percent Interest.\",]\n",
        "            ],\n",
        "            [\n",
        "                r\"DB(.*)\",\n",
        "                [\"DB offers 09 percent Interest.\",]\n",
        "            ],\n",
        "            [\n",
        "                r\"HSBC(.*)\",\n",
        "                [\"HSBC offers 11 percent Interest.\",]\n",
        "            ],\n",
        "            [\n",
        "                r\"(.*)Stocks(.*)\",\n",
        "                [\"We have 2 companies to offer: a. XXX b. YYY.\\n choose any one to know more.\\n\",]\n",
        "            ],\n",
        "            [\n",
        "                r\"(.*)XXX(.*)\",\n",
        "                [\"The company XXX has a ROI = 10 percent\",]\n",
        "            ],\n",
        "            [\n",
        "                r\"(.*)YYY(.*)\",\n",
        "                [\"The company YYY has a ROI = 12 percent\",]\n",
        "            ],\n",
        "            [\n",
        "                r\"hi|hey|hello(.*)\",\n",
        "                [\"Hello!\", \"Hey there!\",]\n",
        "            ],\n",
        "            [\n",
        "                r\"okay|thanks|ok\",\n",
        "                [\"Welcome! Feel free to ask again.\"]\n",
        "            ],\n",
        "            [\n",
        "                r\"quit\",\n",
        "                [\"Signing out, see you again ^_^\",]\n",
        "            ],\n",
        "        ]"
      ],
      "execution_count": null,
      "outputs": []
    },
    {
      "cell_type": "code",
      "metadata": {
        "id": "U_tSnBW-o9il"
      },
      "source": [
        "def chatbot():\n",
        "    print(\"Booting up...\\nHey I am a simple ChatBot made without ML, only using NLTK library.\\nPlease type in English language (lower case) what you want to ask me.\\n\")\n",
        "    chat = Chat(pairs, reflections)\n",
        "    chat.converse()"
      ],
      "execution_count": null,
      "outputs": []
    },
    {
      "cell_type": "code",
      "metadata": {
        "colab": {
          "base_uri": "https://localhost:8080/"
        },
        "id": "8LCqtnZ8o9im",
        "outputId": "ddd3bc56-846f-45b1-c6b6-86a915c11716"
      },
      "source": [
        "if __name__ == \"__main__\":\n",
        "    chatbot()"
      ],
      "execution_count": null,
      "outputs": [
        {
          "output_type": "stream",
          "text": [
            "Booting up...\n",
            "Hey I am a simple ChatBot made without ML, only using NLTK library.\n",
            "Please type in English language (lower case) what you want to ask me.\n",
            "\n",
            ">hi\n",
            "Hey there!\n",
            ">i am fine\n",
            "How can I help you?\n",
            ">where can i invest money\n",
            "Basically there are many options to invest- 1.Regional and 2.Stocks.\n",
            "In which section would you like to invest?\n",
            ">Regional\n",
            "There are many - SBI,HSBC,DB. Which bank would you like to go for?\n",
            ">DB\n",
            "DB offers 09 percent Interest.\n",
            ">okay \n",
            "Welcome! Feel free to ask again.\n",
            ">quit\n",
            "Signing out, see you again ^_^\n"
          ],
          "name": "stdout"
        }
      ]
    }
  ]
}