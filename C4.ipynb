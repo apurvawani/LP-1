{
  "nbformat": 4,
  "nbformat_minor": 0,
  "metadata": {
    "kernelspec": {
      "display_name": "Python 3",
      "language": "python",
      "name": "python3"
    },
    "language_info": {
      "codemirror_mode": {
        "name": "ipython",
        "version": 3
      },
      "file_extension": ".py",
      "mimetype": "text/x-python",
      "name": "python",
      "nbconvert_exporter": "python",
      "pygments_lexer": "ipython3",
      "version": "3.8.5"
    },
    "colab": {
      "name": "TwitterSentimentAnalysis.ipynb",
      "provenance": []
    }
  },
  "cells": [
    {
      "cell_type": "code",
      "metadata": {
        "id": "15cXehwcSMgr"
      },
      "source": [
        "import pandas as pd\n",
        "import re # regular expression, specifies a set of strings that matches it"
      ],
      "execution_count": 3,
      "outputs": []
    },
    {
      "cell_type": "code",
      "metadata": {
        "id": "3ovGkKnGSMgw"
      },
      "source": [
        "train=pd.read_csv(\"train.csv\")"
      ],
      "execution_count": 4,
      "outputs": []
    },
    {
      "cell_type": "code",
      "metadata": {
        "colab": {
          "base_uri": "https://localhost:8080/",
          "height": 202
        },
        "id": "mPHAyh8fSMgy",
        "outputId": "5aaa4256-cc0d-4545-a3ab-a1b650b74e81"
      },
      "source": [
        "train.head()"
      ],
      "execution_count": 5,
      "outputs": [
        {
          "output_type": "execute_result",
          "data": {
            "text/html": [
              "<div>\n",
              "<style scoped>\n",
              "    .dataframe tbody tr th:only-of-type {\n",
              "        vertical-align: middle;\n",
              "    }\n",
              "\n",
              "    .dataframe tbody tr th {\n",
              "        vertical-align: top;\n",
              "    }\n",
              "\n",
              "    .dataframe thead th {\n",
              "        text-align: right;\n",
              "    }\n",
              "</style>\n",
              "<table border=\"1\" class=\"dataframe\">\n",
              "  <thead>\n",
              "    <tr style=\"text-align: right;\">\n",
              "      <th></th>\n",
              "      <th>id</th>\n",
              "      <th>label</th>\n",
              "      <th>tweet</th>\n",
              "    </tr>\n",
              "  </thead>\n",
              "  <tbody>\n",
              "    <tr>\n",
              "      <th>0</th>\n",
              "      <td>1</td>\n",
              "      <td>0</td>\n",
              "      <td>@user when a father is dysfunctional and is s...</td>\n",
              "    </tr>\n",
              "    <tr>\n",
              "      <th>1</th>\n",
              "      <td>2</td>\n",
              "      <td>0</td>\n",
              "      <td>@user @user thanks for #lyft credit i can't us...</td>\n",
              "    </tr>\n",
              "    <tr>\n",
              "      <th>2</th>\n",
              "      <td>3</td>\n",
              "      <td>0</td>\n",
              "      <td>bihday your majesty</td>\n",
              "    </tr>\n",
              "    <tr>\n",
              "      <th>3</th>\n",
              "      <td>4</td>\n",
              "      <td>0</td>\n",
              "      <td>#model   i love u take with u all the time in ...</td>\n",
              "    </tr>\n",
              "    <tr>\n",
              "      <th>4</th>\n",
              "      <td>5</td>\n",
              "      <td>0</td>\n",
              "      <td>factsguide: society now    #motivation</td>\n",
              "    </tr>\n",
              "  </tbody>\n",
              "</table>\n",
              "</div>"
            ],
            "text/plain": [
              "   id  label                                              tweet\n",
              "0   1      0   @user when a father is dysfunctional and is s...\n",
              "1   2      0  @user @user thanks for #lyft credit i can't us...\n",
              "2   3      0                                bihday your majesty\n",
              "3   4      0  #model   i love u take with u all the time in ...\n",
              "4   5      0             factsguide: society now    #motivation"
            ]
          },
          "metadata": {
            "tags": []
          },
          "execution_count": 5
        }
      ]
    },
    {
      "cell_type": "code",
      "metadata": {
        "colab": {
          "base_uri": "https://localhost:8080/",
          "height": 35
        },
        "id": "R0xask0pSMg1",
        "outputId": "6496d01f-c2a3-469a-89ff-ef889749f81d"
      },
      "source": [
        "train.drop(\"id\", inplace = True, axis = 1)\n",
        "'''\n",
        "If False, return a copy. Otherwise, do operation inplace and return None.\n",
        "'''"
      ],
      "execution_count": 6,
      "outputs": [
        {
          "output_type": "execute_result",
          "data": {
            "application/vnd.google.colaboratory.intrinsic+json": {
              "type": "string"
            },
            "text/plain": [
              "'\\nIf False, return a copy. Otherwise, do operation inplace and return None.\\n'"
            ]
          },
          "metadata": {
            "tags": []
          },
          "execution_count": 6
        }
      ]
    },
    {
      "cell_type": "code",
      "metadata": {
        "colab": {
          "base_uri": "https://localhost:8080/",
          "height": 53
        },
        "id": "azZH6IXASMg2",
        "outputId": "bc92daee-549e-40e9-c062-5f3835b005a6"
      },
      "source": [
        "from nltk.stem import PorterStemmer #Natural Language Toolkit\n",
        "stemmer = PorterStemmer()\n",
        "'''\n",
        "types - Porter’s Stemmer algorithm , output stem is not necessarily a meaningful word\n",
        "Lovins Stemmer, Dawson Stemmer , N-Gram Stemmer , Xerox Stemmer, Krovetz Stemmer , Lancaster Stemmer\n",
        "'''"
      ],
      "execution_count": 7,
      "outputs": [
        {
          "output_type": "execute_result",
          "data": {
            "application/vnd.google.colaboratory.intrinsic+json": {
              "type": "string"
            },
            "text/plain": [
              "'\\ntypes - Porter’s Stemmer algorithm , output stem is not necessarily a meaningful word\\nLovins Stemmer, Dawson Stemmer , N-Gram Stemmer , Xerox Stemmer, Krovetz Stemmer , Lancaster Stemmer\\n'"
            ]
          },
          "metadata": {
            "tags": []
          },
          "execution_count": 7
        }
      ]
    },
    {
      "cell_type": "code",
      "metadata": {
        "id": "ffLXeaNnSMg4"
      },
      "source": [
        "x = train['tweet']\n",
        "y = train['label']"
      ],
      "execution_count": 8,
      "outputs": []
    },
    {
      "cell_type": "code",
      "metadata": {
        "id": "lqcgrmZcSMg5"
      },
      "source": [
        "def preprocessing(text):\n",
        "    \n",
        "    text = text.lower()\n",
        "    \n",
        "    text = re.sub(r\"[^a-z0-9^,!.\\/']\", \" \", text) # sub() replaces the matches with the text of your choice\n",
        "    \n",
        "    text = \" \".join(text.split()) # spilt the text into separate words and then join them using space as the connector\n",
        "    text = \" \".join(stemmer.stem(word) for word in text.split())\n",
        "    \n",
        "    return text\n",
        "\n",
        "\n",
        "x = x.map(lambda a: preprocessing(a))"
      ],
      "execution_count": 9,
      "outputs": []
    },
    {
      "cell_type": "code",
      "metadata": {
        "colab": {
          "base_uri": "https://localhost:8080/"
        },
        "id": "dIJd884dSMg6",
        "outputId": "1812a374-79f2-4ae0-80bf-67e8988a8522"
      },
      "source": [
        "x.head()"
      ],
      "execution_count": 10,
      "outputs": [
        {
          "output_type": "execute_result",
          "data": {
            "text/plain": [
              "0    user when a father is dysfunct and is so selfi...\n",
              "1    user user thank for lyft credit i can't use ca...\n",
              "2                                  bihday your majesti\n",
              "3    model i love u take with u all the time in ur !!!\n",
              "4                          factsguid societi now motiv\n",
              "Name: tweet, dtype: object"
            ]
          },
          "metadata": {
            "tags": []
          },
          "execution_count": 10
        }
      ]
    },
    {
      "cell_type": "code",
      "metadata": {
        "id": "q9BprWXHSMg7"
      },
      "source": [
        "from sklearn.model_selection import train_test_split\n",
        "x_train, x_test, y_train, y_test = train_test_split(x, y, random_state = 42) #random state?????????"
      ],
      "execution_count": 11,
      "outputs": []
    },
    {
      "cell_type": "code",
      "metadata": {
        "colab": {
          "base_uri": "https://localhost:8080/"
        },
        "id": "xvitBGobSMg9",
        "outputId": "d02d210e-d7f9-4aa8-9418-655bf0ce3e86"
      },
      "source": [
        "x_train.head()"
      ],
      "execution_count": 12,
      "outputs": [
        {
          "output_type": "execute_result",
          "data": {
            "text/plain": [
              "15377                 to be in saint lucia with a purpose.\n",
              "2358     21 day thank herbalif for the shake herballif ...\n",
              "6409                   happi brithday hoshi oppa hoshi day\n",
              "937      lemm find out i have to put on my boiler in th...\n",
              "8537     canada consum price index mom came in at 0.4 ,...\n",
              "Name: tweet, dtype: object"
            ]
          },
          "metadata": {
            "tags": []
          },
          "execution_count": 12
        }
      ]
    },
    {
      "cell_type": "code",
      "metadata": {
        "id": "j2wtOAIvSMg-"
      },
      "source": [
        "from sklearn.feature_extraction.text import TfidfVectorizer\n",
        "'''\n",
        "TF-IDF are word frequency scores that try to highlight words that are more interesting, e.g. frequent in a document but \n",
        "not across documents. The TfidfVectorizer will tokenize documents, learn the vocabulary and inverse document frequency \n",
        "weightings, and allow you to encode new documents\n",
        "'''\n",
        "vectorizer = TfidfVectorizer(stop_words = 'english')\n",
        "\n",
        "xtest = x_test\n",
        "xtrain = x_train\n",
        "\n",
        "x_train = vectorizer.fit_transform(x_train)\n",
        "x_test = vectorizer.transform(x_test)"
      ],
      "execution_count": 13,
      "outputs": []
    },
    {
      "cell_type": "code",
      "metadata": {
        "colab": {
          "base_uri": "https://localhost:8080/"
        },
        "id": "AvrmTW89SMg_",
        "outputId": "8295c9c8-1ff0-4643-f6b9-99716a1e429a"
      },
      "source": [
        "from sklearn.svm import LinearSVC\n",
        "'''\n",
        " LinearSVC is another (faster) implementation of Support Vector Classification for the case of a linear kernel. \n",
        " not good understanding :(\n",
        "'''\n",
        "model = LinearSVC(random_state = 0)\n",
        "\n",
        "model.fit(x_train, y_train)"
      ],
      "execution_count": 14,
      "outputs": [
        {
          "output_type": "execute_result",
          "data": {
            "text/plain": [
              "LinearSVC(C=1.0, class_weight=None, dual=True, fit_intercept=True,\n",
              "          intercept_scaling=1, loss='squared_hinge', max_iter=1000,\n",
              "          multi_class='ovr', penalty='l2', random_state=0, tol=0.0001,\n",
              "          verbose=0)"
            ]
          },
          "metadata": {
            "tags": []
          },
          "execution_count": 14
        }
      ]
    },
    {
      "cell_type": "code",
      "metadata": {
        "colab": {
          "base_uri": "https://localhost:8080/"
        },
        "id": "R8SLepr0SMhA",
        "outputId": "f0d66736-7e2b-47ca-cc96-7a764bef792b"
      },
      "source": [
        "from sklearn.metrics import confusion_matrix, accuracy_score, precision_score, f1_score, recall_score\n",
        "\n",
        "confusion_matrix(y_test,model.predict(x_test))"
      ],
      "execution_count": 15,
      "outputs": [
        {
          "output_type": "execute_result",
          "data": {
            "text/plain": [
              "array([[5014,   33],\n",
              "       [ 182,  172]])"
            ]
          },
          "metadata": {
            "tags": []
          },
          "execution_count": 15
        }
      ]
    },
    {
      "cell_type": "code",
      "metadata": {
        "colab": {
          "base_uri": "https://localhost:8080/"
        },
        "id": "pbCVzM-CSMhB",
        "outputId": "53ca4fa9-c60e-4424-ff3a-d0247ac95c69"
      },
      "source": [
        "accuracy_score(y_test,model.predict(x_test))"
      ],
      "execution_count": 16,
      "outputs": [
        {
          "output_type": "execute_result",
          "data": {
            "text/plain": [
              "0.9601925569339012"
            ]
          },
          "metadata": {
            "tags": []
          },
          "execution_count": 16
        }
      ]
    },
    {
      "cell_type": "code",
      "metadata": {
        "colab": {
          "base_uri": "https://localhost:8080/"
        },
        "id": "9y66H4S1SMhD",
        "outputId": "cffbddad-04fc-4c76-e082-740d81109c5e"
      },
      "source": [
        "recall_score(y_test,model.predict(x_test))"
      ],
      "execution_count": 17,
      "outputs": [
        {
          "output_type": "execute_result",
          "data": {
            "text/plain": [
              "0.4858757062146893"
            ]
          },
          "metadata": {
            "tags": []
          },
          "execution_count": 17
        }
      ]
    },
    {
      "cell_type": "code",
      "metadata": {
        "colab": {
          "base_uri": "https://localhost:8080/"
        },
        "id": "DheBTv4gSMhE",
        "outputId": "7a4a6f7e-486b-4fcb-f011-3cb7df857453"
      },
      "source": [
        "precision_score(y_test,model.predict(x_test))"
      ],
      "execution_count": 18,
      "outputs": [
        {
          "output_type": "execute_result",
          "data": {
            "text/plain": [
              "0.8390243902439024"
            ]
          },
          "metadata": {
            "tags": []
          },
          "execution_count": 18
        }
      ]
    },
    {
      "cell_type": "code",
      "metadata": {
        "colab": {
          "base_uri": "https://localhost:8080/"
        },
        "id": "Xlkx4hDoSMhF",
        "outputId": "837ef9cf-5e52-4bc9-953f-a40dd3fdcca3"
      },
      "source": [
        "f1_score(y_test,model.predict(x_test))"
      ],
      "execution_count": 19,
      "outputs": [
        {
          "output_type": "execute_result",
          "data": {
            "text/plain": [
              "0.6153846153846154"
            ]
          },
          "metadata": {
            "tags": []
          },
          "execution_count": 19
        }
      ]
    },
    {
      "cell_type": "code",
      "metadata": {
        "id": "Gx_AdKwqSMhG"
      },
      "source": [
        ""
      ],
      "execution_count": null,
      "outputs": []
    }
  ]
}