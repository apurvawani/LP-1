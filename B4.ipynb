{
  "nbformat": 4,
  "nbformat_minor": 0,
  "metadata": {
    "colab": {
      "name": "B4.ipynb",
      "provenance": []
    },
    "kernelspec": {
      "name": "python3",
      "display_name": "Python 3"
    }
  },
  "cells": [
    {
      "cell_type": "markdown",
      "metadata": {
        "id": "h2hPsKg-BlsM"
      },
      "source": [
        "Aim is to place N queens on a NxN chessboard such that no queen attacks any other queen on the board. "
      ]
    },
    {
      "cell_type": "code",
      "metadata": {
        "id": "vlm1SNNdNfcM",
        "colab": {
          "base_uri": "https://localhost:8080/"
        },
        "outputId": "99602efd-bea0-4293-d46d-4ee270299326"
      },
      "source": [
        "#No. of queens\n",
        "print (\"Enter the number of queens\")\n",
        "N = int(input())\n",
        " \n",
        "\n",
        "#NxN matrix with all elements 0\n",
        "board = [[0]*N for _ in range(N)]\n",
        " \n",
        "def is_attack(i, j):\n",
        "    for k in range(0,N):    #checking if there is a queen in row or column\n",
        "        if board[i][k] == 1 or board[k][j] == 1:\n",
        "            return True\n",
        "\n",
        "    for k in range(0,N):    #checking diagonals\n",
        "        for l in range(0,N):\n",
        "            if (k+l==i+j) or (k-l==i-j):\n",
        "                if board[k][l]==1:\n",
        "                    return True\n",
        " \n",
        "    return False\n",
        " \n",
        "def N_queen(n):\n",
        "    if n == 0:    #if n is 0, solution found\n",
        "      return True\n",
        "    for i in range(0,N):\n",
        "        for j in range(0,N):\n",
        "            if (not(is_attack(i,j))) and (board[i][j] != 1):    #checking if we can place a queen here (not attacked and not occupied)\n",
        "                board[i][j] = 1\n",
        "                if N_queen(n-1) == True:    #whether we can put the next queen with this arrangment or not\n",
        "                    return True\n",
        "                board[i][j] = 0\n",
        "  \n",
        "    return False\n",
        " \n",
        "status = N_queen(N)\n",
        " \n",
        "if status == True:\n",
        "    for i in board:\n",
        "      print(i)\n",
        "else:\n",
        "    print(\"No result possible!\")"
      ],
      "execution_count": 4,
      "outputs": [
        {
          "output_type": "stream",
          "text": [
            "Enter the number of queens\n",
            "8\n",
            "[1, 0, 0, 0, 0, 0, 0, 0]\n",
            "[0, 0, 0, 0, 1, 0, 0, 0]\n",
            "[0, 0, 0, 0, 0, 0, 0, 1]\n",
            "[0, 0, 0, 0, 0, 1, 0, 0]\n",
            "[0, 0, 1, 0, 0, 0, 0, 0]\n",
            "[0, 0, 0, 0, 0, 0, 1, 0]\n",
            "[0, 1, 0, 0, 0, 0, 0, 0]\n",
            "[0, 0, 0, 1, 0, 0, 0, 0]\n"
          ],
          "name": "stdout"
        }
      ]
    }
  ]
}